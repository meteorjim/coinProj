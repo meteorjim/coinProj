{
 "metadata": {
  "language_info": {
   "codemirror_mode": {
    "name": "ipython",
    "version": 3
   },
   "file_extension": ".py",
   "mimetype": "text/x-python",
   "name": "python",
   "nbconvert_exporter": "python",
   "pygments_lexer": "ipython3",
   "version": "3.8.8"
  },
  "orig_nbformat": 2,
  "kernelspec": {
   "name": "python388jvsc74a57bd01b2b0f409ecbe55cbd77d76ab8b7a6044218da5db3e6504d0f400a2529d06cea",
   "display_name": "Python 3.8.8 64-bit ('coin': conda)"
  }
 },
 "nbformat": 4,
 "nbformat_minor": 2,
 "cells": [
  {
   "cell_type": "code",
   "execution_count": 1,
   "metadata": {},
   "outputs": [],
   "source": [
    "import datetime\n",
    "import requests\n",
    "import pandas as pd\n",
    "import random\n",
    "from utils import *\n",
    "from strategies import *\n",
    "from plotly import graph_objects as go\n",
    "from matplotlib import pyplot as plt\n"
   ]
  },
  {
   "cell_type": "code",
   "execution_count": 43,
   "metadata": {},
   "outputs": [
    {
     "output_type": "stream",
     "name": "stdout",
     "text": [
      "ringusdt\nupup \t down\n38 \t 59\n43 \t 55\n"
     ]
    }
   ],
   "source": [
    "symbol_list = get_symbol_list()\n",
    "sb = symbol_list[random.randint(0, len(symbol_list))]\n",
    "print(sb)\n",
    "a=get_price(sb, \"1day\", 2000)\n",
    "a=get_rate(a,\"close\")\n",
    "# a=get_rate(a,\"volume\")\n",
    "a[\"r+1\"] = a[\"close_rate\"].shift(-1)\n",
    "a[\"r+2\"] = a[\"close_rate\"].shift(-2)\n",
    "a=custom_data_analyze_func(a)\n",
    "b=a.loc[(a[\"vol_mean5_cr\"] < 3) & (a[\"close_rate\"] > 0)]\n",
    "print(\"upup\", \"\\t\", \"down\")\n",
    "print(len(b[b[\"r+2\"]>0]), \"\\t\", len(b[b[\"r+2\"]<0]))\n",
    "print(len(b[b[\"r+1\"]>0]), \"\\t\", len(b[b[\"r+1\"]<0]))"
   ]
  }
 ]
}