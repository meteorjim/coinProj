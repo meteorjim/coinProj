{
 "metadata": {
  "language_info": {
   "codemirror_mode": {
    "name": "ipython",
    "version": 3
   },
   "file_extension": ".py",
   "mimetype": "text/x-python",
   "name": "python",
   "nbconvert_exporter": "python",
   "pygments_lexer": "ipython3",
   "version": "3.8.8"
  },
  "orig_nbformat": 2,
  "kernelspec": {
   "name": "python388jvsc74a57bd01b2b0f409ecbe55cbd77d76ab8b7a6044218da5db3e6504d0f400a2529d06cea",
   "display_name": "Python 3.8.8 64-bit ('coin': conda)"
  }
 },
 "nbformat": 4,
 "nbformat_minor": 2,
 "cells": [
  {
   "cell_type": "code",
   "execution_count": 1,
   "metadata": {},
   "outputs": [],
   "source": [
    "# !pip install plotly matplotlib pandas requests huobi-client\n",
    "# !pip list\n",
    "# !git clone https://github.com/HuobiRDCenter/huobi_Python\n",
    "# !cd huobi_Python && python setup.py install"
   ]
  },
  {
   "cell_type": "code",
   "execution_count": 2,
   "metadata": {},
   "outputs": [],
   "source": [
    "import datetime\n",
    "import requests\n",
    "import pandas as pd\n",
    "import random\n",
    "from utils import *\n",
    "from strategies import *\n",
    "# from matplotlib import pyplot as plt"
   ]
  },
  {
   "cell_type": "code",
   "execution_count": 97,
   "metadata": {},
   "outputs": [
    {
     "output_type": "stream",
     "name": "stdout",
     "text": [
      "wavesusdt\n"
     ]
    },
    {
     "output_type": "display_data",
     "data": {
      "text/plain": "                        high      low     open    close        volume  \\\ndate                                                                    \n2020-08-13 08:00:00   2.2401   2.0700   2.1757   2.1340  1.856357e+05   \n2020-11-22 16:00:00   6.4800   6.0433   6.4369   6.2161  4.847158e+05   \n2021-04-09 12:00:00  14.5555  13.8958  13.9776  14.4107  1.319220e+06   \n\n                     close_rate      cr+1      cr+2  volume_rate  close_cr  \\\ndate                                                                         \n2020-08-13 08:00:00   -0.019482  0.233739  0.351828    -0.508613 -0.019482   \n2020-11-22 16:00:00   -0.034317  0.204324  0.223291     0.026917 -0.034317   \n2021-04-09 12:00:00    0.030013  0.242410  0.333023    -0.150368  0.030013   \n\n                       volume3_std  vol_mean3_cr    mean_5    mean_13  \\\ndate                                                                    \n2020-08-13 08:00:00   97143.889795     -0.464856   2.16598   2.019862   \n2020-11-22 16:00:00   16120.652695      0.010166   6.21820   6.511900   \n2021-04-09 12:00:00  662931.595457      0.442252  13.84596  13.041354   \n\n                       mean_21    mean_60   mean_120   mean_225  \ndate                                                             \n2020-08-13 08:00:00   1.993800   1.807053   1.668282   1.523500  \n2020-11-22 16:00:00   6.205929   5.110318   4.290470   3.753042  \n2021-04-09 12:00:00  13.012652  12.456938  11.835017  10.960218  ",
      "text/html": "<div>\n<style scoped>\n    .dataframe tbody tr th:only-of-type {\n        vertical-align: middle;\n    }\n\n    .dataframe tbody tr th {\n        vertical-align: top;\n    }\n\n    .dataframe thead th {\n        text-align: right;\n    }\n</style>\n<table border=\"1\" class=\"dataframe\">\n  <thead>\n    <tr style=\"text-align: right;\">\n      <th></th>\n      <th>high</th>\n      <th>low</th>\n      <th>open</th>\n      <th>close</th>\n      <th>volume</th>\n      <th>close_rate</th>\n      <th>cr+1</th>\n      <th>cr+2</th>\n      <th>volume_rate</th>\n      <th>close_cr</th>\n      <th>volume3_std</th>\n      <th>vol_mean3_cr</th>\n      <th>mean_5</th>\n      <th>mean_13</th>\n      <th>mean_21</th>\n      <th>mean_60</th>\n      <th>mean_120</th>\n      <th>mean_225</th>\n    </tr>\n    <tr>\n      <th>date</th>\n      <th></th>\n      <th></th>\n      <th></th>\n      <th></th>\n      <th></th>\n      <th></th>\n      <th></th>\n      <th></th>\n      <th></th>\n      <th></th>\n      <th></th>\n      <th></th>\n      <th></th>\n      <th></th>\n      <th></th>\n      <th></th>\n      <th></th>\n      <th></th>\n    </tr>\n  </thead>\n  <tbody>\n    <tr>\n      <th>2020-08-13 08:00:00</th>\n      <td>2.2401</td>\n      <td>2.0700</td>\n      <td>2.1757</td>\n      <td>2.1340</td>\n      <td>1.856357e+05</td>\n      <td>-0.019482</td>\n      <td>0.233739</td>\n      <td>0.351828</td>\n      <td>-0.508613</td>\n      <td>-0.019482</td>\n      <td>97143.889795</td>\n      <td>-0.464856</td>\n      <td>2.16598</td>\n      <td>2.019862</td>\n      <td>1.993800</td>\n      <td>1.807053</td>\n      <td>1.668282</td>\n      <td>1.523500</td>\n    </tr>\n    <tr>\n      <th>2020-11-22 16:00:00</th>\n      <td>6.4800</td>\n      <td>6.0433</td>\n      <td>6.4369</td>\n      <td>6.2161</td>\n      <td>4.847158e+05</td>\n      <td>-0.034317</td>\n      <td>0.204324</td>\n      <td>0.223291</td>\n      <td>0.026917</td>\n      <td>-0.034317</td>\n      <td>16120.652695</td>\n      <td>0.010166</td>\n      <td>6.21820</td>\n      <td>6.511900</td>\n      <td>6.205929</td>\n      <td>5.110318</td>\n      <td>4.290470</td>\n      <td>3.753042</td>\n    </tr>\n    <tr>\n      <th>2021-04-09 12:00:00</th>\n      <td>14.5555</td>\n      <td>13.8958</td>\n      <td>13.9776</td>\n      <td>14.4107</td>\n      <td>1.319220e+06</td>\n      <td>0.030013</td>\n      <td>0.242410</td>\n      <td>0.333023</td>\n      <td>-0.150368</td>\n      <td>0.030013</td>\n      <td>662931.595457</td>\n      <td>0.442252</td>\n      <td>13.84596</td>\n      <td>13.041354</td>\n      <td>13.012652</td>\n      <td>12.456938</td>\n      <td>11.835017</td>\n      <td>10.960218</td>\n    </tr>\n  </tbody>\n</table>\n</div>"
     },
     "metadata": {}
    }
   ],
   "source": [
    "symbol_list = get_symbol_list()\n",
    "sb = symbol_list[random.randint(0, len(symbol_list))]\n",
    "print(sb)\n",
    "# a=get_price(\"canusdt\", \"1min\", 2000)\n",
    "a=get_price(sb, \"4hour\", 2000)\n",
    "a=get_rate(a, \"close\")\n",
    "a[\"cr+1\"] = (a[\"close\"].shift(-1) - a[\"close\"]) / a[\"close\"]\n",
    "a[\"cr+2\"] = (a[\"close\"].shift(-2) - a[\"close\"]) / a[\"close\"]\n",
    "a=get_rate(a, \"volume\")\n",
    "a=custom_data_analyze_func(a, rolling_days=3)\n",
    "a=get_mean_line(a)\n",
    "b=a.loc[a[\"cr+1\"]>0.2]\n",
    "display(a.loc[a[\"cr+1\"]>0.2])\n",
    "# draw_candle(a)"
   ]
  },
  {
   "cell_type": "code",
   "execution_count": 98,
   "metadata": {},
   "outputs": [],
   "source": [
    "for dd in b.index:\n",
    "    ss, ee = dd, dd-datetime.timedelta(hours=4*6)\n",
    "    b = a.loc[(a.index >= ss) & (a.index <= ee)]\n",
    "    if len(b) > 4:\n",
    "        draw_candle(b)"
   ]
  },
  {
   "cell_type": "code",
   "execution_count": 96,
   "metadata": {},
   "outputs": [
    {
     "output_type": "execute_result",
     "data": {
      "text/plain": [
       "Empty DataFrame\n",
       "Columns: [high, low, open, close, volume, close_rate, cr+1, cr+2, volume_rate, close_cr, volume3_std, vol_mean3_cr, mean_5, mean_13, mean_21, mean_60, mean_120, mean_225]\n",
       "Index: []"
      ],
      "text/html": "<div>\n<style scoped>\n    .dataframe tbody tr th:only-of-type {\n        vertical-align: middle;\n    }\n\n    .dataframe tbody tr th {\n        vertical-align: top;\n    }\n\n    .dataframe thead th {\n        text-align: right;\n    }\n</style>\n<table border=\"1\" class=\"dataframe\">\n  <thead>\n    <tr style=\"text-align: right;\">\n      <th></th>\n      <th>high</th>\n      <th>low</th>\n      <th>open</th>\n      <th>close</th>\n      <th>volume</th>\n      <th>close_rate</th>\n      <th>cr+1</th>\n      <th>cr+2</th>\n      <th>volume_rate</th>\n      <th>close_cr</th>\n      <th>volume3_std</th>\n      <th>vol_mean3_cr</th>\n      <th>mean_5</th>\n      <th>mean_13</th>\n      <th>mean_21</th>\n      <th>mean_60</th>\n      <th>mean_120</th>\n      <th>mean_225</th>\n    </tr>\n    <tr>\n      <th>date</th>\n      <th></th>\n      <th></th>\n      <th></th>\n      <th></th>\n      <th></th>\n      <th></th>\n      <th></th>\n      <th></th>\n      <th></th>\n      <th></th>\n      <th></th>\n      <th></th>\n      <th></th>\n      <th></th>\n      <th></th>\n      <th></th>\n      <th></th>\n      <th></th>\n    </tr>\n  </thead>\n  <tbody>\n  </tbody>\n</table>\n</div>"
     },
     "metadata": {},
     "execution_count": 96
    }
   ],
   "source": [
    "b"
   ]
  }
 ]
}