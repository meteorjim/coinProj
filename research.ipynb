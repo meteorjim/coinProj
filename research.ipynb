{
 "cells": [
  {
   "cell_type": "code",
   "execution_count": null,
   "metadata": {},
   "outputs": [],
   "source": [
    "# !pip install plotly matplotlib pandas requests\n",
    "# !git clone https://github.com/HuobiRDCenter/huobi_Python\n",
    "# !cd huobi_Python && python setup.py install"
   ]
  },
  {
   "cell_type": "code",
   "execution_count": null,
   "metadata": {},
   "outputs": [],
   "source": [
    "import datetime\n",
    "import requests\n",
    "import pandas as pd\n",
    "import random\n",
    "from utils import *\n",
    "from strategies import *\n",
    "from matplotlib import pyplot as plt"
   ]
  },
  {
   "cell_type": "code",
   "execution_count": null,
   "metadata": {},
   "outputs": [],
   "source": [
    "symbol_list = get_symbol_list()\n",
    "sb = symbol_list[random.randint(0, len(symbol_list))]\n",
    "for sb in symbol_list:\n",
    "    a=get_price(sb, \"30min\", 2000)\n",
    "    a=get_rate(a, \"close\")\n",
    "    a[\"cr+1\"] = (a[\"close\"].shift(-1) - a[\"close\"]) / a[\"close\"]\n",
    "    a[\"cr+2\"] = (a[\"close\"].shift(-2) - a[\"close\"]) / a[\"close\"]\n",
    "    a=get_rate(a, \"volume\")\n",
    "    a=custom_data_analyze_func(a, rolling_days=3)\n",
    "    standard = a.describe()[\"vol_mean3_cr\"][\"75%\"]\n",
    "    c=a.loc[(a[\"vol_mean3_cr\"]>standard) & (a[\"close_rate\"]>0)]\n",
    "    try:\n",
    "        if datetime.datetime.strptime(\"2021-04-22 17:00:00\", \"%Y-%m-%d %H:%M:%S\") == c.index[-1]:\n",
    "            print(sb)\n",
    "    except:\n",
    "        continue\n",
    "print(\"done\")"
   ]
  },
  {
   "cell_type": "code",
   "execution_count": null,
   "metadata": {},
   "outputs": [],
   "source": [
    "# symbol_list = get_symbol_list()\n",
    "# sb = symbol_list[random.randint(0, len(symbol_list))]\n",
    "sb = \"mtausdt\"\n",
    "a=get_price(sb, \"30min\", 2000)\n",
    "print(sb)\n",
    "a=get_rate(a, \"close\")\n",
    "a[\"cr+1\"] = (a[\"close\"].shift(-1) - a[\"close\"]) / a[\"close\"]\n",
    "a[\"cr+2\"] = (a[\"close\"].shift(-2) - a[\"close\"]) / a[\"close\"]\n",
    "a=get_rate(a, \"volume\")\n",
    "a=custom_data_analyze_func(a, rolling_days=3)\n",
    "standard = a.describe()[\"vol_mean3_cr\"][\"75%\"]\n",
    "c=a.loc[(a[\"vol_mean3_cr\"]>standard) & (a[\"close_rate\"]>0)]\n",
    "print(c.index[-1], c.iloc[-1][\"close\"])\n",
    "display(c[[\"cr+1\",\"cr+2\",\"close_rate\"]].describe())\n",
    "# c[[\"cr+1\"]].plot(kind=\"hist\")\n",
    "aa=get_price(sb, \"1min\", 2000)\n",
    "aa=get_mean_line(aa)\n",
    "bb = aa[c.index[-1]-datetime.timedelta(hours=0.5) : c.index[-1]]\n",
    "draw_candle(bb)\n",
    "cc = aa[c.index[-1]:c.index[-1]+datetime.timedelta(hours=0.5)]\n",
    "draw_candle(cc)"
   ]
  },
  {
   "cell_type": "code",
   "execution_count": null,
   "metadata": {},
   "outputs": [],
   "source": [
    "wallet = 50 # USDT"
   ]
  },
  {
   "cell_type": "code",
   "execution_count": 6,
   "metadata": {},
   "outputs": [
    {
     "output_type": "stream",
     "name": "stdout",
     "text": [
      "It is 0:10:07.418958 later\ncurrent symbol price 0.124143\ncurrent rate = 17.9002%\n================================\nThe max rate: 28.3269%\nU sell trxusdt with 0.12444\nThe force close line: 20\nThe win rates: 40\nI quite XD, with 17.90019286403036%\n"
     ]
    },
    {
     "output_type": "display_data",
     "data": {
      "application/vnd.plotly.v1+json": {
       "config": {
        "plotlyServerURL": "https://plot.ly"
       },
       "data": [
        {
         "type": "scatter",
         "y": [
          5.665380906460756,
          5.725650916104018,
          5.665380906460756,
          5.725650916104018,
          5.484570877530971,
          5.725650916104018,
          7.232401157183891,
          7.413211186113676,
          7.895371263258935,
          7.17213114754063,
          5.665380906460756,
          5.906460945033804,
          6.509161041465585,
          6.931051108967581,
          6.509161041465585,
          6.448891031822323,
          7.955641272902196,
          9.402121504338806,
          10.065091610414688,
          11.391031822564774,
          10.72806171648973,
          10.908871745419516,
          11.089681774348467,
          11.873191899710031,
          11.511571841851298,
          11.149951783991726,
          11.089681774348467,
          10.426711668273422,
          10.306171648986899,
          9.040501446480071,
          7.955641272902196,
          8.015911282545458,
          8.437801350048291,
          8.015911282545458,
          9.763741562198378,
          8.739151398263765,
          7.955641272902196,
          7.835101253615672,
          10.065091610414688,
          10.306171648986899,
          11.089681774348467,
          10.065091610414688,
          7.6542912246858865,
          7.352941176470415,
          9.040501446480071,
          8.377531340405028,
          8.076181292188721,
          9.161041465766596,
          6.931051108967581,
          8.678881388620502,
          8.136451301831983,
          11.752651880424345,
          11.692381870781084,
          9.8842815814849,
          9.944551591128164,
          11.752651880424345,
          12.837512054001387,
          11.812921890067608,
          12.415621986499389,
          12.837512054001387,
          14.40453230472452,
          14.464802314367782,
          15.308582449372611,
          15.670202507232181,
          16.152362584377443,
          16.092092574734178,
          14.525072324011044,
          15.670202507232181,
          15.12777242044366,
          16.272902603663965,
          17.598842815814887,
          18.985053037608232,
          17.90019286403036,
          18.924783027964974,
          17.65911282545815,
          17.779652844743833,
          18.322082931533192,
          17.779652844743833,
          17.05641272902553,
          17.779652844743833,
          16.815332690453317,
          16.031822565090916,
          14.76615236258409,
          13.440212150434004,
          14.886692381870613,
          14.464802314367782,
          14.70588235294083,
          14.223722275795572,
          15.12777242044366,
          15.067502410800401,
          16.634522661523537,
          16.393442622950488,
          16.2126325940207,
          15.188042430086089,
          15.24831243972935,
          16.272902603663965,
          16.99614271938227,
          15.429122468659136,
          13.801832208292739,
          11.933461909353294,
          12.174541947926341,
          14.645612343297566,
          14.223722275795572,
          14.464802314367782,
          15.489392478302394,
          15.97155255544849,
          14.283992285438831,
          14.40453230472452,
          19.58775313404002,
          19.64802314368328,
          20.43153326904485,
          19.94937319189959,
          19.045323047251497,
          19.105593056894758,
          17.65911282545815,
          19.105593056894758,
          18.442622950819715,
          18.50289296046298,
          15.670202507232181,
          16.875602700095744,
          16.513982642237014,
          17.176952748312054,
          18.50289296046298,
          17.05641272902553,
          18.081002892960143,
          18.02073288331688,
          20.009643201542854,
          18.68370298939193,
          19.286403085824546,
          19.346673095467807,
          19.286403085824546,
          18.081002892960143,
          17.176952748312054,
          16.875602700095744,
          15.670202507232181,
          15.609932497588918,
          14.163452266152309,
          14.223722275795572,
          12.174541947926341,
          13.138862102217693,
          13.319672131147481,
          13.199132111860957,
          12.897782063644646,
          10.72806171648973,
          10.969141755062779,
          10.848601735776255,
          11.752651880424345,
          13.259402121504218,
          14.645612343297566,
          14.223722275795572,
          15.007232401157138,
          15.067502410800401,
          15.12777242044366,
          15.007232401157138,
          16.755062680810056,
          16.031822565090916,
          15.97155255544849,
          16.393442622950488,
          15.790742526518704,
          15.911282545805228,
          16.393442622950488,
          15.911282545805228,
          15.609932497588918,
          15.24831243972935,
          15.308582449372611,
          15.24831243972935,
          14.946962391513877,
          14.826422372227352,
          14.76615236258409,
          14.525072324011044,
          15.24831243972935,
          15.790742526518704,
          16.152362584377443,
          16.45371263259375,
          15.368852459015873,
          15.24831243972935,
          16.513982642237014,
          16.393442622950488,
          16.513982642237014,
          15.670202507232181,
          15.851012536161965,
          16.031822565090916,
          16.634522661523537,
          16.272902603663965,
          16.031822565090916,
          15.97155255544849,
          18.442622950819715,
          16.513982642237014,
          17.598842815814887,
          17.779652844743833,
          19.70829315332654,
          19.045323047251497,
          18.985053037608232,
          18.864513018321713,
          18.20154291224667,
          18.141272902603404,
          18.50289296046298,
          17.90019286403036,
          17.839922854387098,
          17.90019286403036,
          17.839922854387098,
          18.864513018321713,
          18.985053037608232,
          20.49180327868811,
          21.03423336547663,
          21.51639344262272,
          21.576663452265983,
          22.721793635486286,
          22.66152362584386,
          22.058823529411246,
          22.782063645129547,
          21.576663452265983,
          21.215043394406415,
          24.288813886210256,
          23.26422372227564,
          22.66152362584386,
          22.902603664416073,
          23.023143683702596,
          22.48071359691407,
          21.094503375119892,
          21.335583413692937,
          21.69720347155251,
          22.66152362584386,
          21.81774349083903,
          21.335583413692937,
          24.10800385728047,
          22.119093539054507,
          22.360173577627553,
          24.10800385728047,
          23.08341369334586,
          23.50530376084869,
          22.66152362584386,
          22.058823529411246,
          21.99855351976798,
          22.17936354869777,
          22.66152362584386,
          22.601253616200598,
          21.81774349083903,
          22.058823529411246,
          22.17936354869777,
          22.119093539054507,
          22.17936354869777,
          22.119093539054507,
          21.99855351976798,
          22.119093539054507,
          21.99855351976798,
          22.058823529411246,
          22.360173577627553,
          22.66152362584386,
          23.68611378977764,
          24.04773384763721,
          24.10800385728047,
          23.806653809064162,
          23.7463837994209,
          23.806653809064162,
          23.7463837994209,
          24.04773384763721,
          23.68611378977764,
          23.324493731918906,
          22.902603664416073,
          23.98746383799395,
          23.866923818707424,
          23.565573770491113,
          24.10800385728047,
          23.98746383799395,
          23.7463837994209,
          23.324493731918906,
          23.44503375120543,
          25.614754098360347,
          24.650433944068993,
          25.67502410800361,
          24.590163934425732,
          24.168273866923734,
          24.590163934425732,
          24.288813886210256,
          25.614754098360347,
          25.373674059787298,
          25.735294117646873,
          26.036644165863176,
          25.67502410800361,
          25.373674059787298,
          24.71070395371225,
          26.217454194792126,
          26.699614271938223,
          27.061234329796953,
          28.326904532304617,
          28.08582449373157,
          26.75988428158148,
          28.02555448408831,
          27.78447444551526,
          27.724204435872004,
          26.699614271938223,
          27.061234329796953,
          27.00096432015369,
          26.940694310510434,
          23.92719382835069,
          24.951783992285304,
          25.97637415621991,
          26.217454194792126,
          23.7463837994209,
          23.806653809064162,
          25.43394406943056,
          25.01205400192856,
          25.313404050144037,
          24.951783992285304,
          24.89151398264204,
          23.565573770491113,
          25.313404050144037,
          24.168273866923734,
          24.831243972998777,
          25.313404050144037,
          25.79556412729013,
          25.072324011571823,
          25.614754098360347,
          25.19286403085835,
          24.409353905495944,
          25.373674059787298,
          25.614754098360347,
          25.855834136933392,
          25.97637415621991,
          25.132594021215084,
          26.33799421407865,
          25.614754098360347,
          26.33799421407865,
          26.518804243008436,
          27.302314368370002,
          26.699614271938223,
          26.639344262294962,
          25.97637415621991,
          26.217454194792126,
          26.458534233365175,
          26.33799421407865,
          26.157184185148864,
          26.518804243008436,
          27.965284474445046,
          27.00096432015369,
          27.121504339440214,
          27.00096432015369,
          24.89151398264204,
          25.916104146576654,
          25.67502410800361,
          25.916104146576654,
          25.855834136933392,
          25.614754098360347,
          24.89151398264204,
          24.34908389585352,
          23.806653809064162,
          24.89151398264204,
          25.67502410800361,
          23.806653809064162,
          24.409353905495944,
          22.842333654772812,
          23.20395371263238,
          22.842333654772812,
          23.20395371263238,
          23.14368370298912,
          23.68611378977764,
          23.384763741562168,
          23.14368370298912,
          23.625843780134375,
          23.565573770491113,
          22.842333654772812,
          22.601253616200598,
          22.058823529411246,
          21.93828351012472,
          22.058823529411246,
          22.66152362584386,
          22.962873674059335,
          23.68611378977764,
          24.34908389585352,
          24.10800385728047,
          22.66152362584386,
          23.565573770491113,
          22.420443587270814,
          24.228543876566995,
          24.590163934425732,
          24.46962391513921,
          23.20395371263238,
          21.275313404049676,
          21.335583413692937,
          22.239633558341026,
          22.29990356798429,
          22.17936354869777,
          22.239633558341026,
          21.99855351976798,
          21.636933461909244,
          21.275313404049676,
          22.540983606557337,
          21.878013500481458,
          22.058823529411246,
          21.81774349083903,
          22.058823529411246,
          21.81774349083903,
          22.17936354869777,
          21.878013500481458,
          22.601253616200598,
          21.45612343297946,
          22.119093539054507,
          22.058823529411246,
          21.878013500481458,
          22.119093539054507,
          22.29990356798429,
          21.93828351012472,
          21.99855351976798,
          21.93828351012472,
          22.540983606557337,
          22.239633558341026,
          21.81774349083903,
          21.93828351012472,
          22.17936354869777,
          22.119093539054507,
          22.17936354869777,
          22.119093539054507,
          22.17936354869777,
          22.239633558341026,
          22.17936354869777,
          22.119093539054507,
          21.275313404049676,
          17.90019286403036
         ]
        }
       ],
       "layout": {
        "template": {
         "data": {
          "bar": [
           {
            "error_x": {
             "color": "#2a3f5f"
            },
            "error_y": {
             "color": "#2a3f5f"
            },
            "marker": {
             "line": {
              "color": "#E5ECF6",
              "width": 0.5
             }
            },
            "type": "bar"
           }
          ],
          "barpolar": [
           {
            "marker": {
             "line": {
              "color": "#E5ECF6",
              "width": 0.5
             }
            },
            "type": "barpolar"
           }
          ],
          "carpet": [
           {
            "aaxis": {
             "endlinecolor": "#2a3f5f",
             "gridcolor": "white",
             "linecolor": "white",
             "minorgridcolor": "white",
             "startlinecolor": "#2a3f5f"
            },
            "baxis": {
             "endlinecolor": "#2a3f5f",
             "gridcolor": "white",
             "linecolor": "white",
             "minorgridcolor": "white",
             "startlinecolor": "#2a3f5f"
            },
            "type": "carpet"
           }
          ],
          "choropleth": [
           {
            "colorbar": {
             "outlinewidth": 0,
             "ticks": ""
            },
            "type": "choropleth"
           }
          ],
          "contour": [
           {
            "colorbar": {
             "outlinewidth": 0,
             "ticks": ""
            },
            "colorscale": [
             [
              0,
              "#0d0887"
             ],
             [
              0.1111111111111111,
              "#46039f"
             ],
             [
              0.2222222222222222,
              "#7201a8"
             ],
             [
              0.3333333333333333,
              "#9c179e"
             ],
             [
              0.4444444444444444,
              "#bd3786"
             ],
             [
              0.5555555555555556,
              "#d8576b"
             ],
             [
              0.6666666666666666,
              "#ed7953"
             ],
             [
              0.7777777777777778,
              "#fb9f3a"
             ],
             [
              0.8888888888888888,
              "#fdca26"
             ],
             [
              1,
              "#f0f921"
             ]
            ],
            "type": "contour"
           }
          ],
          "contourcarpet": [
           {
            "colorbar": {
             "outlinewidth": 0,
             "ticks": ""
            },
            "type": "contourcarpet"
           }
          ],
          "heatmap": [
           {
            "colorbar": {
             "outlinewidth": 0,
             "ticks": ""
            },
            "colorscale": [
             [
              0,
              "#0d0887"
             ],
             [
              0.1111111111111111,
              "#46039f"
             ],
             [
              0.2222222222222222,
              "#7201a8"
             ],
             [
              0.3333333333333333,
              "#9c179e"
             ],
             [
              0.4444444444444444,
              "#bd3786"
             ],
             [
              0.5555555555555556,
              "#d8576b"
             ],
             [
              0.6666666666666666,
              "#ed7953"
             ],
             [
              0.7777777777777778,
              "#fb9f3a"
             ],
             [
              0.8888888888888888,
              "#fdca26"
             ],
             [
              1,
              "#f0f921"
             ]
            ],
            "type": "heatmap"
           }
          ],
          "heatmapgl": [
           {
            "colorbar": {
             "outlinewidth": 0,
             "ticks": ""
            },
            "colorscale": [
             [
              0,
              "#0d0887"
             ],
             [
              0.1111111111111111,
              "#46039f"
             ],
             [
              0.2222222222222222,
              "#7201a8"
             ],
             [
              0.3333333333333333,
              "#9c179e"
             ],
             [
              0.4444444444444444,
              "#bd3786"
             ],
             [
              0.5555555555555556,
              "#d8576b"
             ],
             [
              0.6666666666666666,
              "#ed7953"
             ],
             [
              0.7777777777777778,
              "#fb9f3a"
             ],
             [
              0.8888888888888888,
              "#fdca26"
             ],
             [
              1,
              "#f0f921"
             ]
            ],
            "type": "heatmapgl"
           }
          ],
          "histogram": [
           {
            "marker": {
             "colorbar": {
              "outlinewidth": 0,
              "ticks": ""
             }
            },
            "type": "histogram"
           }
          ],
          "histogram2d": [
           {
            "colorbar": {
             "outlinewidth": 0,
             "ticks": ""
            },
            "colorscale": [
             [
              0,
              "#0d0887"
             ],
             [
              0.1111111111111111,
              "#46039f"
             ],
             [
              0.2222222222222222,
              "#7201a8"
             ],
             [
              0.3333333333333333,
              "#9c179e"
             ],
             [
              0.4444444444444444,
              "#bd3786"
             ],
             [
              0.5555555555555556,
              "#d8576b"
             ],
             [
              0.6666666666666666,
              "#ed7953"
             ],
             [
              0.7777777777777778,
              "#fb9f3a"
             ],
             [
              0.8888888888888888,
              "#fdca26"
             ],
             [
              1,
              "#f0f921"
             ]
            ],
            "type": "histogram2d"
           }
          ],
          "histogram2dcontour": [
           {
            "colorbar": {
             "outlinewidth": 0,
             "ticks": ""
            },
            "colorscale": [
             [
              0,
              "#0d0887"
             ],
             [
              0.1111111111111111,
              "#46039f"
             ],
             [
              0.2222222222222222,
              "#7201a8"
             ],
             [
              0.3333333333333333,
              "#9c179e"
             ],
             [
              0.4444444444444444,
              "#bd3786"
             ],
             [
              0.5555555555555556,
              "#d8576b"
             ],
             [
              0.6666666666666666,
              "#ed7953"
             ],
             [
              0.7777777777777778,
              "#fb9f3a"
             ],
             [
              0.8888888888888888,
              "#fdca26"
             ],
             [
              1,
              "#f0f921"
             ]
            ],
            "type": "histogram2dcontour"
           }
          ],
          "mesh3d": [
           {
            "colorbar": {
             "outlinewidth": 0,
             "ticks": ""
            },
            "type": "mesh3d"
           }
          ],
          "parcoords": [
           {
            "line": {
             "colorbar": {
              "outlinewidth": 0,
              "ticks": ""
             }
            },
            "type": "parcoords"
           }
          ],
          "pie": [
           {
            "automargin": true,
            "type": "pie"
           }
          ],
          "scatter": [
           {
            "marker": {
             "colorbar": {
              "outlinewidth": 0,
              "ticks": ""
             }
            },
            "type": "scatter"
           }
          ],
          "scatter3d": [
           {
            "line": {
             "colorbar": {
              "outlinewidth": 0,
              "ticks": ""
             }
            },
            "marker": {
             "colorbar": {
              "outlinewidth": 0,
              "ticks": ""
             }
            },
            "type": "scatter3d"
           }
          ],
          "scattercarpet": [
           {
            "marker": {
             "colorbar": {
              "outlinewidth": 0,
              "ticks": ""
             }
            },
            "type": "scattercarpet"
           }
          ],
          "scattergeo": [
           {
            "marker": {
             "colorbar": {
              "outlinewidth": 0,
              "ticks": ""
             }
            },
            "type": "scattergeo"
           }
          ],
          "scattergl": [
           {
            "marker": {
             "colorbar": {
              "outlinewidth": 0,
              "ticks": ""
             }
            },
            "type": "scattergl"
           }
          ],
          "scattermapbox": [
           {
            "marker": {
             "colorbar": {
              "outlinewidth": 0,
              "ticks": ""
             }
            },
            "type": "scattermapbox"
           }
          ],
          "scatterpolar": [
           {
            "marker": {
             "colorbar": {
              "outlinewidth": 0,
              "ticks": ""
             }
            },
            "type": "scatterpolar"
           }
          ],
          "scatterpolargl": [
           {
            "marker": {
             "colorbar": {
              "outlinewidth": 0,
              "ticks": ""
             }
            },
            "type": "scatterpolargl"
           }
          ],
          "scatterternary": [
           {
            "marker": {
             "colorbar": {
              "outlinewidth": 0,
              "ticks": ""
             }
            },
            "type": "scatterternary"
           }
          ],
          "surface": [
           {
            "colorbar": {
             "outlinewidth": 0,
             "ticks": ""
            },
            "colorscale": [
             [
              0,
              "#0d0887"
             ],
             [
              0.1111111111111111,
              "#46039f"
             ],
             [
              0.2222222222222222,
              "#7201a8"
             ],
             [
              0.3333333333333333,
              "#9c179e"
             ],
             [
              0.4444444444444444,
              "#bd3786"
             ],
             [
              0.5555555555555556,
              "#d8576b"
             ],
             [
              0.6666666666666666,
              "#ed7953"
             ],
             [
              0.7777777777777778,
              "#fb9f3a"
             ],
             [
              0.8888888888888888,
              "#fdca26"
             ],
             [
              1,
              "#f0f921"
             ]
            ],
            "type": "surface"
           }
          ],
          "table": [
           {
            "cells": {
             "fill": {
              "color": "#EBF0F8"
             },
             "line": {
              "color": "white"
             }
            },
            "header": {
             "fill": {
              "color": "#C8D4E3"
             },
             "line": {
              "color": "white"
             }
            },
            "type": "table"
           }
          ]
         },
         "layout": {
          "annotationdefaults": {
           "arrowcolor": "#2a3f5f",
           "arrowhead": 0,
           "arrowwidth": 1
          },
          "autotypenumbers": "strict",
          "coloraxis": {
           "colorbar": {
            "outlinewidth": 0,
            "ticks": ""
           }
          },
          "colorscale": {
           "diverging": [
            [
             0,
             "#8e0152"
            ],
            [
             0.1,
             "#c51b7d"
            ],
            [
             0.2,
             "#de77ae"
            ],
            [
             0.3,
             "#f1b6da"
            ],
            [
             0.4,
             "#fde0ef"
            ],
            [
             0.5,
             "#f7f7f7"
            ],
            [
             0.6,
             "#e6f5d0"
            ],
            [
             0.7,
             "#b8e186"
            ],
            [
             0.8,
             "#7fbc41"
            ],
            [
             0.9,
             "#4d9221"
            ],
            [
             1,
             "#276419"
            ]
           ],
           "sequential": [
            [
             0,
             "#0d0887"
            ],
            [
             0.1111111111111111,
             "#46039f"
            ],
            [
             0.2222222222222222,
             "#7201a8"
            ],
            [
             0.3333333333333333,
             "#9c179e"
            ],
            [
             0.4444444444444444,
             "#bd3786"
            ],
            [
             0.5555555555555556,
             "#d8576b"
            ],
            [
             0.6666666666666666,
             "#ed7953"
            ],
            [
             0.7777777777777778,
             "#fb9f3a"
            ],
            [
             0.8888888888888888,
             "#fdca26"
            ],
            [
             1,
             "#f0f921"
            ]
           ],
           "sequentialminus": [
            [
             0,
             "#0d0887"
            ],
            [
             0.1111111111111111,
             "#46039f"
            ],
            [
             0.2222222222222222,
             "#7201a8"
            ],
            [
             0.3333333333333333,
             "#9c179e"
            ],
            [
             0.4444444444444444,
             "#bd3786"
            ],
            [
             0.5555555555555556,
             "#d8576b"
            ],
            [
             0.6666666666666666,
             "#ed7953"
            ],
            [
             0.7777777777777778,
             "#fb9f3a"
            ],
            [
             0.8888888888888888,
             "#fdca26"
            ],
            [
             1,
             "#f0f921"
            ]
           ]
          },
          "colorway": [
           "#636efa",
           "#EF553B",
           "#00cc96",
           "#ab63fa",
           "#FFA15A",
           "#19d3f3",
           "#FF6692",
           "#B6E880",
           "#FF97FF",
           "#FECB52"
          ],
          "font": {
           "color": "#2a3f5f"
          },
          "geo": {
           "bgcolor": "white",
           "lakecolor": "white",
           "landcolor": "#E5ECF6",
           "showlakes": true,
           "showland": true,
           "subunitcolor": "white"
          },
          "hoverlabel": {
           "align": "left"
          },
          "hovermode": "closest",
          "mapbox": {
           "style": "light"
          },
          "paper_bgcolor": "white",
          "plot_bgcolor": "#E5ECF6",
          "polar": {
           "angularaxis": {
            "gridcolor": "white",
            "linecolor": "white",
            "ticks": ""
           },
           "bgcolor": "#E5ECF6",
           "radialaxis": {
            "gridcolor": "white",
            "linecolor": "white",
            "ticks": ""
           }
          },
          "scene": {
           "xaxis": {
            "backgroundcolor": "#E5ECF6",
            "gridcolor": "white",
            "gridwidth": 2,
            "linecolor": "white",
            "showbackground": true,
            "ticks": "",
            "zerolinecolor": "white"
           },
           "yaxis": {
            "backgroundcolor": "#E5ECF6",
            "gridcolor": "white",
            "gridwidth": 2,
            "linecolor": "white",
            "showbackground": true,
            "ticks": "",
            "zerolinecolor": "white"
           },
           "zaxis": {
            "backgroundcolor": "#E5ECF6",
            "gridcolor": "white",
            "gridwidth": 2,
            "linecolor": "white",
            "showbackground": true,
            "ticks": "",
            "zerolinecolor": "white"
           }
          },
          "shapedefaults": {
           "line": {
            "color": "#2a3f5f"
           }
          },
          "ternary": {
           "aaxis": {
            "gridcolor": "white",
            "linecolor": "white",
            "ticks": ""
           },
           "baxis": {
            "gridcolor": "white",
            "linecolor": "white",
            "ticks": ""
           },
           "bgcolor": "#E5ECF6",
           "caxis": {
            "gridcolor": "white",
            "linecolor": "white",
            "ticks": ""
           }
          },
          "title": {
           "x": 0.05
          },
          "xaxis": {
           "automargin": true,
           "gridcolor": "white",
           "linecolor": "white",
           "ticks": "",
           "title": {
            "standoff": 15
           },
           "zerolinecolor": "white",
           "zerolinewidth": 2
          },
          "yaxis": {
           "automargin": true,
           "gridcolor": "white",
           "linecolor": "white",
           "ticks": "",
           "title": {
            "standoff": 15
           },
           "zerolinecolor": "white",
           "zerolinewidth": 2
          }
         }
        }
       }
      }
     },
     "metadata": {}
    }
   ],
   "source": [
    "import datetime\n",
    "from utils import *\n",
    "from plotly import graph_objects as go\n",
    "from IPython.display import clear_output\n",
    "from usdt_swap import *\n",
    "\n",
    "pr = 0\n",
    "max_rate = 0\n",
    "stime = datetime.datetime.now()\n",
    "\n",
    "plot_list = []\n",
    "\n",
    "#TODO 从服务器获取当前持仓信息\n",
    "contract = \"TRX-USDT\"\n",
    "while True:\n",
    "    result = get_current_swap_info(contract)\n",
    "    if result is not None:\n",
    "        break\n",
    "print(result)\n",
    "open_point=result.get('cost_open')\n",
    "leverage = result.get('lever_rate')\n",
    "direction = result.get('direction')\n",
    "volume = result.get(\"volume\")\n",
    "\n",
    "init_win_rates = 20\n",
    "force_close = -20\n",
    "change_rate = 10\n",
    "symbol = contract.replace(\"-\",\"\").lower()\n",
    "\n",
    "while True:\n",
    "    try:\n",
    "        current_point = get_price(symbol, \"1min\", 1).iloc[-1][\"close\"]\n",
    "    except Exception:\n",
    "        print(\"!!!!!!\")\n",
    "        continue\n",
    "    # 计算当前订单涨跌幅\n",
    "    if direction in \"buy\":\n",
    "        rates = (current_point - open_point) / open_point * 100 * leverage\n",
    "    elif direction in \"sell\":\n",
    "        rates = (open_point - current_point) / open_point * 100 * leverage\n",
    "    else:\n",
    "        raise Exception(\"wha???????\")\n",
    "    if pr != rates:\n",
    "        clear_output(wait=True)\n",
    "        if max_rate < rates:\n",
    "            max_rate = rates\n",
    "        duration = datetime.datetime.now()-stime\n",
    "        print(f\"It is {duration} later\")\n",
    "        print(f\"current symbol price {current_point}\")\n",
    "        print(\"current rate = {:.4f}%\".format(rates))\n",
    "        print(\"================================\")\n",
    "        print(\"The max rate: {:.4f}%\".format(max_rate))\n",
    "        print(f\"U {direction} {symbol} with {open_point}\\nThe force close line: {force_close}\\nThe win rates: {init_win_rates}\")\n",
    "        plot_list.append(rates)\n",
    "    pr = rates\n",
    "    if rates < force_close:\n",
    "        if rates < 0:\n",
    "            print(\"I quite QAQ\")\n",
    "            fast_close(contract, volume, reverse_direction(direction))\n",
    "        else:\n",
    "            print(f\"I quite XD, with {rates}%\")\n",
    "            fast_close(contract, volume, reverse_direction(direction))\n",
    "        break\n",
    "    if rates > 2* init_win_rates:\n",
    "        print(f\"I quite XD, with {rates}%\")\n",
    "        # wallet = wallet * (100+rates)/100\n",
    "    elif rates > init_win_rates*0.9:\n",
    "        force_close = init_win_rates - change_rate\n",
    "        init_win_rates += change_rate\n",
    "\n",
    "# print(f\"{wallet} usdt left\")\n",
    "        \n",
    "fig = go.Figure(\n",
    "    go.Scatter(y=plot_list)\n",
    ")\n",
    "\n",
    "fig.show()"
   ]
  },
  {
   "cell_type": "code",
   "execution_count": null,
   "metadata": {},
   "outputs": [],
   "source": [
    "from huobi.client.account import AccountClient\n",
    "from huobi.client.trade import TradeClient\n",
    "from huobi.constant import OrderType\n",
    "\n",
    "ac = AccountClient(api_key=\"937448cb-gr4edfki8l-50d83020-7143e\", secret_key=\"2cdd66df-7bc32cc4-6b9e778b-034da\")\n",
    "ids = [acc.id for acc in ac.get_accounts()]\n",
    "print(ids)\n",
    "tc = TradeClient(api_key=\"937448cb-gr4edfki8l-50d83020-7143e\", secret_key=\"2cdd66df-7bc32cc4-6b9e778b-034da\")\n",
    "tc.get_open_orders(\"trxusdt\", 22933194)"
   ]
  },
  {
   "cell_type": "code",
   "execution_count": null,
   "metadata": {},
   "outputs": [],
   "source": []
  }
 ],
 "metadata": {
  "kernelspec": {
   "name": "python388jvsc74a57bd01b2b0f409ecbe55cbd77d76ab8b7a6044218da5db3e6504d0f400a2529d06cea",
   "display_name": "Python 3.8.8 64-bit ('coin': conda)"
  },
  "language_info": {
   "codemirror_mode": {
    "name": "ipython",
    "version": 3
   },
   "file_extension": ".py",
   "mimetype": "text/x-python",
   "name": "python",
   "nbconvert_exporter": "python",
   "pygments_lexer": "ipython3",
   "version": "3.8.8"
  }
 },
 "nbformat": 4,
 "nbformat_minor": 2
}