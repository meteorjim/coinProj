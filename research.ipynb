{
 "cells": [
  {
   "cell_type": "code",
   "execution_count": null,
   "metadata": {},
   "outputs": [],
   "source": [
    "# !pip install plotly matplotlib pandas requests\n",
    "# !git clone https://github.com/HuobiRDCenter/huobi_Python\n",
    "# !cd huobi_Python && python setup.py install"
   ]
  },
  {
   "cell_type": "code",
   "execution_count": null,
   "metadata": {},
   "outputs": [],
   "source": [
    "import datetime\n",
    "import requests\n",
    "import pandas as pd\n",
    "import random\n",
    "from utils import *\n",
    "from strategies import *\n",
    "from matplotlib import pyplot as plt"
   ]
  },
  {
   "cell_type": "code",
   "execution_count": null,
   "metadata": {},
   "outputs": [],
   "source": [
    "symbol_list = get_symbol_list()\n",
    "sb = symbol_list[random.randint(0, len(symbol_list))]\n",
    "for sb in symbol_list:\n",
    "    a=get_price(sb, \"30min\", 2000)\n",
    "    a=get_rate(a, \"close\")\n",
    "    a[\"cr+1\"] = (a[\"close\"].shift(-1) - a[\"close\"]) / a[\"close\"]\n",
    "    a[\"cr+2\"] = (a[\"close\"].shift(-2) - a[\"close\"]) / a[\"close\"]\n",
    "    a=get_rate(a, \"volume\")\n",
    "    a=custom_data_analyze_func(a, rolling_days=3)\n",
    "    standard = a.describe()[\"vol_mean3_cr\"][\"75%\"]\n",
    "    c=a.loc[(a[\"vol_mean3_cr\"]>standard) & (a[\"close_rate\"]>0)]\n",
    "    try:\n",
    "        if datetime.datetime.strptime(\"2021-04-22 17:00:00\", \"%Y-%m-%d %H:%M:%S\") == c.index[-1]:\n",
    "            print(sb)\n",
    "    except:\n",
    "        continue\n",
    "print(\"done\")"
   ]
  },
  {
   "cell_type": "code",
   "execution_count": null,
   "metadata": {},
   "outputs": [],
   "source": [
    "# symbol_list = get_symbol_list()\n",
    "# sb = symbol_list[random.randint(0, len(symbol_list))]\n",
    "sb = \"mtausdt\"\n",
    "a=get_price(sb, \"30min\", 2000)\n",
    "print(sb)\n",
    "a=get_rate(a, \"close\")\n",
    "a[\"cr+1\"] = (a[\"close\"].shift(-1) - a[\"close\"]) / a[\"close\"]\n",
    "a[\"cr+2\"] = (a[\"close\"].shift(-2) - a[\"close\"]) / a[\"close\"]\n",
    "a=get_rate(a, \"volume\")\n",
    "a=custom_data_analyze_func(a, rolling_days=3)\n",
    "standard = a.describe()[\"vol_mean3_cr\"][\"75%\"]\n",
    "c=a.loc[(a[\"vol_mean3_cr\"]>standard) & (a[\"close_rate\"]>0)]\n",
    "print(c.index[-1], c.iloc[-1][\"close\"])\n",
    "display(c[[\"cr+1\",\"cr+2\",\"close_rate\"]].describe())\n",
    "# c[[\"cr+1\"]].plot(kind=\"hist\")\n",
    "aa=get_price(sb, \"1min\", 2000)\n",
    "aa=get_mean_line(aa)\n",
    "bb = aa[c.index[-1]-datetime.timedelta(hours=0.5) : c.index[-1]]\n",
    "draw_candle(bb)\n",
    "cc = aa[c.index[-1]:c.index[-1]+datetime.timedelta(hours=0.5)]\n",
    "draw_candle(cc)"
   ]
  },
  {
   "cell_type": "code",
   "execution_count": null,
   "metadata": {},
   "outputs": [],
   "source": [
    "wallet = 50 # USDT"
   ]
  },
  {
   "cell_type": "code",
   "execution_count": null,
   "metadata": {},
   "outputs": [],
   "source": [
    "import datetime\n",
    "from utils import *\n",
    "from plotly import graph_objects as go\n",
    "from IPython.display import clear_output\n",
    "\n",
    "pr = 0\n",
    "max_rate = 0\n",
    "stime = datetime.datetime.now()\n",
    "\n",
    "plot_list = []\n",
    "\n",
    "#TODO 从服务器获取当前持仓信息\n",
    "symbol = \"dogeusdt\"\n",
    "open_point=get_price(symbol, \"1min\", 1).iloc[-1][\"close\"]\n",
    "leverage = 30\n",
    "direction = \"b\"\n",
    "init_win_rates = 20\n",
    "force_close = -20\n",
    "change_rate = 10\n",
    "\n",
    "while True:\n",
    "    try:\n",
    "        current_point = get_price(symbol, \"1min\", 1).iloc[-1][\"close\"]\n",
    "    except Exception:\n",
    "        print(\"!!!!!!\")\n",
    "        continue\n",
    "    if direction in \"buy\":\n",
    "        rates = (current_point - open_point) / open_point * 100 * leverage\n",
    "    elif direction in \"sell\":\n",
    "        rates = (open_point - current_point) / open_point * 100 * leverage\n",
    "    else:\n",
    "        raise Exception(\"wha???????\")\n",
    "    if pr != rates:\n",
    "        clear_output(wait=True)\n",
    "        if max_rate < rates:\n",
    "            max_rate = rates\n",
    "        duration = datetime.datetime.now()-stime\n",
    "        print(f\"It is {duration} later\")\n",
    "        print(\"current rate = {:.4f}%\".format(rates))\n",
    "        print(\"================================\")\n",
    "        print(\"The max rate: {:.4f}%\".format(max_rate))\n",
    "        print(f\"U {direction} {symbol} with {open_point}\\nThe force close line: {force_close}\\nThe win rates: {init_win_rates}\")\n",
    "        plot_list.append(rates)\n",
    "    pr = rates\n",
    "    if rates < force_close:\n",
    "        if rates < 0:\n",
    "            print(\"I quite QAQ\")\n",
    "            wallet = wallet * (100+rates)/100\n",
    "        else:\n",
    "            print(f\"I quite XD, with {rates}%\")\n",
    "            wallet = wallet * (100+rates)/100\n",
    "        break\n",
    "    if rates > 2* init_win_rates:\n",
    "        print(f\"I quite XD, with {rates}%\")\n",
    "        wallet = wallet * (100+rates)/100\n",
    "    elif rates > init_win_rates*0.9:\n",
    "        force_close = init_win_rates - change_rate\n",
    "        init_win_rates += change_rate\n",
    "\n",
    "print(f\"{wallet} usdt left\")\n",
    "        \n",
    "fig = go.Figure(\n",
    "    go.Scatter(y=plot_list)\n",
    ")\n",
    "fig.show()"
   ]
  },
  {
   "cell_type": "code",
   "execution_count": null,
   "metadata": {},
   "outputs": [],
   "source": [
    "from huobi.client.account import AccountClient\n",
    "from huobi.client.trade import TradeClient\n",
    "from huobi.constant import OrderType\n",
    "print(OrderType.BUY_MARKET)\n",
    "\n",
    "\n",
    "ids =[account.id for account in ac.get_accounts()]\n",
    "\n",
    "blc = ac.get_balance(ids[0])\n",
    "[b.balance for b in ac.get_balance(ids[1])]"
   ]
  }
 ],
 "metadata": {
  "kernelspec": {
   "name": "python388jvsc74a57bd01b2b0f409ecbe55cbd77d76ab8b7a6044218da5db3e6504d0f400a2529d06cea",
   "display_name": "Python 3.8.8 64-bit ('coin': conda)"
  },
  "language_info": {
   "codemirror_mode": {
    "name": "ipython",
    "version": 3
   },
   "file_extension": ".py",
   "mimetype": "text/x-python",
   "name": "python",
   "nbconvert_exporter": "python",
   "pygments_lexer": "ipython3",
   "version": "3.8.8"
  }
 },
 "nbformat": 4,
 "nbformat_minor": 2
}