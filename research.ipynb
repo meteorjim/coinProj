{
 "metadata": {
  "language_info": {
   "codemirror_mode": {
    "name": "ipython",
    "version": 3
   },
   "file_extension": ".py",
   "mimetype": "text/x-python",
   "name": "python",
   "nbconvert_exporter": "python",
   "pygments_lexer": "ipython3",
   "version": "3.8.8"
  },
  "orig_nbformat": 2,
  "kernelspec": {
   "name": "python388jvsc74a57bd01b2b0f409ecbe55cbd77d76ab8b7a6044218da5db3e6504d0f400a2529d06cea",
   "display_name": "Python 3.8.8 64-bit ('coin': conda)"
  }
 },
 "nbformat": 4,
 "nbformat_minor": 2,
 "cells": [
  {
   "cell_type": "code",
   "execution_count": null,
   "metadata": {},
   "outputs": [],
   "source": [
    "# !pip install plotly matplotlib pandas requests\n",
    "# !git clone https://github.com/HuobiRDCenter/huobi_Python\n",
    "# !cd huobi_Python && python setup.py install"
   ]
  },
  {
   "cell_type": "code",
   "execution_count": null,
   "metadata": {},
   "outputs": [],
   "source": [
    "import datetime\n",
    "import requests\n",
    "import pandas as pd\n",
    "import random\n",
    "from utils import *\n",
    "from strategies import *\n",
    "from matplotlib import pyplot as plt"
   ]
  },
  {
   "cell_type": "code",
   "execution_count": null,
   "metadata": {},
   "outputs": [],
   "source": [
    "symbol_list = get_symbol_list()\n",
    "sb = symbol_list[random.randint(0, len(symbol_list))]\n",
    "for sb in symbol_list:\n",
    "    a=get_price(sb, \"30min\", 2000)\n",
    "    a=get_rate(a, \"close\")\n",
    "    a[\"cr+1\"] = (a[\"close\"].shift(-1) - a[\"close\"]) / a[\"close\"]\n",
    "    a[\"cr+2\"] = (a[\"close\"].shift(-2) - a[\"close\"]) / a[\"close\"]\n",
    "    a=get_rate(a, \"volume\")\n",
    "    a=custom_data_analyze_func(a, rolling_days=3)\n",
    "    standard = a.describe()[\"vol_mean3_cr\"][\"75%\"]\n",
    "    c=a.loc[(a[\"vol_mean3_cr\"]>standard) & (a[\"close_rate\"]>0)]\n",
    "    try:\n",
    "        if datetime.datetime.strptime(\"2021-04-22 17:00:00\", \"%Y-%m-%d %H:%M:%S\") == c.index[-1]:\n",
    "            print(sb)\n",
    "    except:\n",
    "        continue\n",
    "print(\"done\")"
   ]
  },
  {
   "cell_type": "code",
   "execution_count": null,
   "metadata": {},
   "outputs": [],
   "source": [
    "# symbol_list = get_symbol_list()\n",
    "# sb = symbol_list[random.randint(0, len(symbol_list))]\n",
    "sb = \"mtausdt\"\n",
    "a=get_price(sb, \"30min\", 2000)\n",
    "print(sb)\n",
    "a=get_rate(a, \"close\")\n",
    "a[\"cr+1\"] = (a[\"close\"].shift(-1) - a[\"close\"]) / a[\"close\"]\n",
    "a[\"cr+2\"] = (a[\"close\"].shift(-2) - a[\"close\"]) / a[\"close\"]\n",
    "a=get_rate(a, \"volume\")\n",
    "a=custom_data_analyze_func(a, rolling_days=3)\n",
    "standard = a.describe()[\"vol_mean3_cr\"][\"75%\"]\n",
    "c=a.loc[(a[\"vol_mean3_cr\"]>standard) & (a[\"close_rate\"]>0)]\n",
    "print(c.index[-1], c.iloc[-1][\"close\"])\n",
    "display(c[[\"cr+1\",\"cr+2\",\"close_rate\"]].describe())\n",
    "# c[[\"cr+1\"]].plot(kind=\"hist\")\n",
    "aa=get_price(sb, \"1min\", 2000)\n",
    "aa=get_mean_line(aa)\n",
    "bb = aa[c.index[-1]-datetime.timedelta(hours=0.5) : c.index[-1]]\n",
    "draw_candle(bb)\n",
    "cc = aa[c.index[-1]:c.index[-1]+datetime.timedelta(hours=0.5)]\n",
    "draw_candle(cc)"
   ]
  },
  {
   "cell_type": "code",
   "execution_count": null,
   "metadata": {},
   "outputs": [],
   "source": []
  }
 ]
}