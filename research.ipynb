{
 "cells": [
  {
   "cell_type": "code",
   "execution_count": null,
   "metadata": {},
   "outputs": [],
   "source": [
    "# !pip install plotly matplotlib pandas requests\n",
    "# !git clone https://github.com/HuobiRDCenter/huobi_Python\n",
    "# !cd huobi_Python && python setup.py install"
   ]
  },
  {
   "cell_type": "code",
   "execution_count": null,
   "metadata": {},
   "outputs": [],
   "source": [
    "import datetime\n",
    "import requests\n",
    "import pandas as pd\n",
    "import random\n",
    "from utils import *\n",
    "from strategies import *\n",
    "from matplotlib import pyplot as plt"
   ]
  },
  {
   "cell_type": "code",
   "execution_count": null,
   "metadata": {},
   "outputs": [],
   "source": [
    "symbol_list = get_symbol_list()\n",
    "sb = symbol_list[random.randint(0, len(symbol_list))]\n",
    "for sb in symbol_list:\n",
    "    a=get_price(sb, \"30min\", 2000)\n",
    "    a=get_rate(a, \"close\")\n",
    "    a[\"cr+1\"] = (a[\"close\"].shift(-1) - a[\"close\"]) / a[\"close\"]\n",
    "    a[\"cr+2\"] = (a[\"close\"].shift(-2) - a[\"close\"]) / a[\"close\"]\n",
    "    a=get_rate(a, \"volume\")\n",
    "    a=custom_data_analyze_func(a, rolling_days=3)\n",
    "    standard = a.describe()[\"vol_mean3_cr\"][\"75%\"]\n",
    "    c=a.loc[(a[\"vol_mean3_cr\"]>standard) & (a[\"close_rate\"]>0)]\n",
    "    try:\n",
    "        if datetime.datetime.strptime(\"2021-04-22 17:00:00\", \"%Y-%m-%d %H:%M:%S\") == c.index[-1]:\n",
    "            print(sb)\n",
    "    except:\n",
    "        continue\n",
    "print(\"done\")"
   ]
  },
  {
   "cell_type": "code",
   "execution_count": null,
   "metadata": {},
   "outputs": [],
   "source": [
    "# symbol_list = get_symbol_list()\n",
    "# sb = symbol_list[random.randint(0, len(symbol_list))]\n",
    "sb = \"mtausdt\"\n",
    "a=get_price(sb, \"30min\", 2000)\n",
    "print(sb)\n",
    "a=get_rate(a, \"close\")\n",
    "a[\"cr+1\"] = (a[\"close\"].shift(-1) - a[\"close\"]) / a[\"close\"]\n",
    "a[\"cr+2\"] = (a[\"close\"].shift(-2) - a[\"close\"]) / a[\"close\"]\n",
    "a=get_rate(a, \"volume\")\n",
    "a=custom_data_analyze_func(a, rolling_days=3)\n",
    "standard = a.describe()[\"vol_mean3_cr\"][\"75%\"]\n",
    "c=a.loc[(a[\"vol_mean3_cr\"]>standard) & (a[\"close_rate\"]>0)]\n",
    "print(c.index[-1], c.iloc[-1][\"close\"])\n",
    "display(c[[\"cr+1\",\"cr+2\",\"close_rate\"]].describe())\n",
    "# c[[\"cr+1\"]].plot(kind=\"hist\")\n",
    "aa=get_price(sb, \"1min\", 2000)\n",
    "aa=get_mean_line(aa)\n",
    "bb = aa[c.index[-1]-datetime.timedelta(hours=0.5) : c.index[-1]]\n",
    "draw_candle(bb)\n",
    "cc = aa[c.index[-1]:c.index[-1]+datetime.timedelta(hours=0.5)]\n",
    "draw_candle(cc)"
   ]
  },
  {
   "cell_type": "code",
   "execution_count": null,
   "metadata": {},
   "outputs": [],
   "source": [
    "wallet = 50 # USDT"
   ]
  },
  {
   "cell_type": "code",
   "execution_count": 5,
   "metadata": {},
   "outputs": [
    {
     "output_type": "stream",
     "name": "stdout",
     "text": [
      "It is 0:00:45.644169 later\n",
      "current contract price 0.125567\n",
      "current rate = -7.1261%\n",
      "================================\n",
      "The max rate: 0.0000%\n",
      "U buy TRX-USDT with 0.126016\n",
      "The force close line: -20\n",
      "The win rates: 20\n",
      "!!!!!! single positional indexer is out-of-bounds\n"
     ]
    },
    {
     "output_type": "display_data",
     "data": {
      "application/vnd.plotly.v1+json": {
       "config": {
        "plotlyServerURL": "https://plot.ly"
       },
       "data": [
        {
         "type": "scatter",
         "y": [
          -0.571356018283083,
          -0.7935500253935135,
          -1.0633570340271672,
          -1.6823260538343543,
          -2.618715083798859,
          -2.634586084306747,
          -3.7138141188418015,
          -4.380396140172653,
          -4.983494159471512,
          -4.967623158963623,
          -5.253301168105605,
          -5.269172168613494,
          -5.253301168105605,
          -4.793042153377297,
          -4.77717115286941,
          -4.793042153377297,
          -5.681818181818138,
          -5.66594718131025,
          -5.396140172676156,
          -5.015236160487286,
          -5.06284916201095,
          -5.031107160995175,
          -5.046978161503063,
          -5.06284916201095,
          -5.046978161503063,
          -5.06284916201095,
          -5.046978161503063,
          -5.650076180802363,
          -5.66594718131025,
          -5.650076180802363,
          -5.538979177247148,
          -5.66594718131025,
          -6.840401218892632,
          -6.9038852209241846,
          -7.60220924327037,
          -7.633951244286146,
          -7.443499238191932,
          -7.45937023869982,
          -7.649822244794033,
          -7.633951244286146,
          -7.126079228034174
         ]
        }
       ],
       "layout": {
        "template": {
         "data": {
          "bar": [
           {
            "error_x": {
             "color": "#2a3f5f"
            },
            "error_y": {
             "color": "#2a3f5f"
            },
            "marker": {
             "line": {
              "color": "#E5ECF6",
              "width": 0.5
             }
            },
            "type": "bar"
           }
          ],
          "barpolar": [
           {
            "marker": {
             "line": {
              "color": "#E5ECF6",
              "width": 0.5
             }
            },
            "type": "barpolar"
           }
          ],
          "carpet": [
           {
            "aaxis": {
             "endlinecolor": "#2a3f5f",
             "gridcolor": "white",
             "linecolor": "white",
             "minorgridcolor": "white",
             "startlinecolor": "#2a3f5f"
            },
            "baxis": {
             "endlinecolor": "#2a3f5f",
             "gridcolor": "white",
             "linecolor": "white",
             "minorgridcolor": "white",
             "startlinecolor": "#2a3f5f"
            },
            "type": "carpet"
           }
          ],
          "choropleth": [
           {
            "colorbar": {
             "outlinewidth": 0,
             "ticks": ""
            },
            "type": "choropleth"
           }
          ],
          "contour": [
           {
            "colorbar": {
             "outlinewidth": 0,
             "ticks": ""
            },
            "colorscale": [
             [
              0,
              "#0d0887"
             ],
             [
              0.1111111111111111,
              "#46039f"
             ],
             [
              0.2222222222222222,
              "#7201a8"
             ],
             [
              0.3333333333333333,
              "#9c179e"
             ],
             [
              0.4444444444444444,
              "#bd3786"
             ],
             [
              0.5555555555555556,
              "#d8576b"
             ],
             [
              0.6666666666666666,
              "#ed7953"
             ],
             [
              0.7777777777777778,
              "#fb9f3a"
             ],
             [
              0.8888888888888888,
              "#fdca26"
             ],
             [
              1,
              "#f0f921"
             ]
            ],
            "type": "contour"
           }
          ],
          "contourcarpet": [
           {
            "colorbar": {
             "outlinewidth": 0,
             "ticks": ""
            },
            "type": "contourcarpet"
           }
          ],
          "heatmap": [
           {
            "colorbar": {
             "outlinewidth": 0,
             "ticks": ""
            },
            "colorscale": [
             [
              0,
              "#0d0887"
             ],
             [
              0.1111111111111111,
              "#46039f"
             ],
             [
              0.2222222222222222,
              "#7201a8"
             ],
             [
              0.3333333333333333,
              "#9c179e"
             ],
             [
              0.4444444444444444,
              "#bd3786"
             ],
             [
              0.5555555555555556,
              "#d8576b"
             ],
             [
              0.6666666666666666,
              "#ed7953"
             ],
             [
              0.7777777777777778,
              "#fb9f3a"
             ],
             [
              0.8888888888888888,
              "#fdca26"
             ],
             [
              1,
              "#f0f921"
             ]
            ],
            "type": "heatmap"
           }
          ],
          "heatmapgl": [
           {
            "colorbar": {
             "outlinewidth": 0,
             "ticks": ""
            },
            "colorscale": [
             [
              0,
              "#0d0887"
             ],
             [
              0.1111111111111111,
              "#46039f"
             ],
             [
              0.2222222222222222,
              "#7201a8"
             ],
             [
              0.3333333333333333,
              "#9c179e"
             ],
             [
              0.4444444444444444,
              "#bd3786"
             ],
             [
              0.5555555555555556,
              "#d8576b"
             ],
             [
              0.6666666666666666,
              "#ed7953"
             ],
             [
              0.7777777777777778,
              "#fb9f3a"
             ],
             [
              0.8888888888888888,
              "#fdca26"
             ],
             [
              1,
              "#f0f921"
             ]
            ],
            "type": "heatmapgl"
           }
          ],
          "histogram": [
           {
            "marker": {
             "colorbar": {
              "outlinewidth": 0,
              "ticks": ""
             }
            },
            "type": "histogram"
           }
          ],
          "histogram2d": [
           {
            "colorbar": {
             "outlinewidth": 0,
             "ticks": ""
            },
            "colorscale": [
             [
              0,
              "#0d0887"
             ],
             [
              0.1111111111111111,
              "#46039f"
             ],
             [
              0.2222222222222222,
              "#7201a8"
             ],
             [
              0.3333333333333333,
              "#9c179e"
             ],
             [
              0.4444444444444444,
              "#bd3786"
             ],
             [
              0.5555555555555556,
              "#d8576b"
             ],
             [
              0.6666666666666666,
              "#ed7953"
             ],
             [
              0.7777777777777778,
              "#fb9f3a"
             ],
             [
              0.8888888888888888,
              "#fdca26"
             ],
             [
              1,
              "#f0f921"
             ]
            ],
            "type": "histogram2d"
           }
          ],
          "histogram2dcontour": [
           {
            "colorbar": {
             "outlinewidth": 0,
             "ticks": ""
            },
            "colorscale": [
             [
              0,
              "#0d0887"
             ],
             [
              0.1111111111111111,
              "#46039f"
             ],
             [
              0.2222222222222222,
              "#7201a8"
             ],
             [
              0.3333333333333333,
              "#9c179e"
             ],
             [
              0.4444444444444444,
              "#bd3786"
             ],
             [
              0.5555555555555556,
              "#d8576b"
             ],
             [
              0.6666666666666666,
              "#ed7953"
             ],
             [
              0.7777777777777778,
              "#fb9f3a"
             ],
             [
              0.8888888888888888,
              "#fdca26"
             ],
             [
              1,
              "#f0f921"
             ]
            ],
            "type": "histogram2dcontour"
           }
          ],
          "mesh3d": [
           {
            "colorbar": {
             "outlinewidth": 0,
             "ticks": ""
            },
            "type": "mesh3d"
           }
          ],
          "parcoords": [
           {
            "line": {
             "colorbar": {
              "outlinewidth": 0,
              "ticks": ""
             }
            },
            "type": "parcoords"
           }
          ],
          "pie": [
           {
            "automargin": true,
            "type": "pie"
           }
          ],
          "scatter": [
           {
            "marker": {
             "colorbar": {
              "outlinewidth": 0,
              "ticks": ""
             }
            },
            "type": "scatter"
           }
          ],
          "scatter3d": [
           {
            "line": {
             "colorbar": {
              "outlinewidth": 0,
              "ticks": ""
             }
            },
            "marker": {
             "colorbar": {
              "outlinewidth": 0,
              "ticks": ""
             }
            },
            "type": "scatter3d"
           }
          ],
          "scattercarpet": [
           {
            "marker": {
             "colorbar": {
              "outlinewidth": 0,
              "ticks": ""
             }
            },
            "type": "scattercarpet"
           }
          ],
          "scattergeo": [
           {
            "marker": {
             "colorbar": {
              "outlinewidth": 0,
              "ticks": ""
             }
            },
            "type": "scattergeo"
           }
          ],
          "scattergl": [
           {
            "marker": {
             "colorbar": {
              "outlinewidth": 0,
              "ticks": ""
             }
            },
            "type": "scattergl"
           }
          ],
          "scattermapbox": [
           {
            "marker": {
             "colorbar": {
              "outlinewidth": 0,
              "ticks": ""
             }
            },
            "type": "scattermapbox"
           }
          ],
          "scatterpolar": [
           {
            "marker": {
             "colorbar": {
              "outlinewidth": 0,
              "ticks": ""
             }
            },
            "type": "scatterpolar"
           }
          ],
          "scatterpolargl": [
           {
            "marker": {
             "colorbar": {
              "outlinewidth": 0,
              "ticks": ""
             }
            },
            "type": "scatterpolargl"
           }
          ],
          "scatterternary": [
           {
            "marker": {
             "colorbar": {
              "outlinewidth": 0,
              "ticks": ""
             }
            },
            "type": "scatterternary"
           }
          ],
          "surface": [
           {
            "colorbar": {
             "outlinewidth": 0,
             "ticks": ""
            },
            "colorscale": [
             [
              0,
              "#0d0887"
             ],
             [
              0.1111111111111111,
              "#46039f"
             ],
             [
              0.2222222222222222,
              "#7201a8"
             ],
             [
              0.3333333333333333,
              "#9c179e"
             ],
             [
              0.4444444444444444,
              "#bd3786"
             ],
             [
              0.5555555555555556,
              "#d8576b"
             ],
             [
              0.6666666666666666,
              "#ed7953"
             ],
             [
              0.7777777777777778,
              "#fb9f3a"
             ],
             [
              0.8888888888888888,
              "#fdca26"
             ],
             [
              1,
              "#f0f921"
             ]
            ],
            "type": "surface"
           }
          ],
          "table": [
           {
            "cells": {
             "fill": {
              "color": "#EBF0F8"
             },
             "line": {
              "color": "white"
             }
            },
            "header": {
             "fill": {
              "color": "#C8D4E3"
             },
             "line": {
              "color": "white"
             }
            },
            "type": "table"
           }
          ]
         },
         "layout": {
          "annotationdefaults": {
           "arrowcolor": "#2a3f5f",
           "arrowhead": 0,
           "arrowwidth": 1
          },
          "autotypenumbers": "strict",
          "coloraxis": {
           "colorbar": {
            "outlinewidth": 0,
            "ticks": ""
           }
          },
          "colorscale": {
           "diverging": [
            [
             0,
             "#8e0152"
            ],
            [
             0.1,
             "#c51b7d"
            ],
            [
             0.2,
             "#de77ae"
            ],
            [
             0.3,
             "#f1b6da"
            ],
            [
             0.4,
             "#fde0ef"
            ],
            [
             0.5,
             "#f7f7f7"
            ],
            [
             0.6,
             "#e6f5d0"
            ],
            [
             0.7,
             "#b8e186"
            ],
            [
             0.8,
             "#7fbc41"
            ],
            [
             0.9,
             "#4d9221"
            ],
            [
             1,
             "#276419"
            ]
           ],
           "sequential": [
            [
             0,
             "#0d0887"
            ],
            [
             0.1111111111111111,
             "#46039f"
            ],
            [
             0.2222222222222222,
             "#7201a8"
            ],
            [
             0.3333333333333333,
             "#9c179e"
            ],
            [
             0.4444444444444444,
             "#bd3786"
            ],
            [
             0.5555555555555556,
             "#d8576b"
            ],
            [
             0.6666666666666666,
             "#ed7953"
            ],
            [
             0.7777777777777778,
             "#fb9f3a"
            ],
            [
             0.8888888888888888,
             "#fdca26"
            ],
            [
             1,
             "#f0f921"
            ]
           ],
           "sequentialminus": [
            [
             0,
             "#0d0887"
            ],
            [
             0.1111111111111111,
             "#46039f"
            ],
            [
             0.2222222222222222,
             "#7201a8"
            ],
            [
             0.3333333333333333,
             "#9c179e"
            ],
            [
             0.4444444444444444,
             "#bd3786"
            ],
            [
             0.5555555555555556,
             "#d8576b"
            ],
            [
             0.6666666666666666,
             "#ed7953"
            ],
            [
             0.7777777777777778,
             "#fb9f3a"
            ],
            [
             0.8888888888888888,
             "#fdca26"
            ],
            [
             1,
             "#f0f921"
            ]
           ]
          },
          "colorway": [
           "#636efa",
           "#EF553B",
           "#00cc96",
           "#ab63fa",
           "#FFA15A",
           "#19d3f3",
           "#FF6692",
           "#B6E880",
           "#FF97FF",
           "#FECB52"
          ],
          "font": {
           "color": "#2a3f5f"
          },
          "geo": {
           "bgcolor": "white",
           "lakecolor": "white",
           "landcolor": "#E5ECF6",
           "showlakes": true,
           "showland": true,
           "subunitcolor": "white"
          },
          "hoverlabel": {
           "align": "left"
          },
          "hovermode": "closest",
          "mapbox": {
           "style": "light"
          },
          "paper_bgcolor": "white",
          "plot_bgcolor": "#E5ECF6",
          "polar": {
           "angularaxis": {
            "gridcolor": "white",
            "linecolor": "white",
            "ticks": ""
           },
           "bgcolor": "#E5ECF6",
           "radialaxis": {
            "gridcolor": "white",
            "linecolor": "white",
            "ticks": ""
           }
          },
          "scene": {
           "xaxis": {
            "backgroundcolor": "#E5ECF6",
            "gridcolor": "white",
            "gridwidth": 2,
            "linecolor": "white",
            "showbackground": true,
            "ticks": "",
            "zerolinecolor": "white"
           },
           "yaxis": {
            "backgroundcolor": "#E5ECF6",
            "gridcolor": "white",
            "gridwidth": 2,
            "linecolor": "white",
            "showbackground": true,
            "ticks": "",
            "zerolinecolor": "white"
           },
           "zaxis": {
            "backgroundcolor": "#E5ECF6",
            "gridcolor": "white",
            "gridwidth": 2,
            "linecolor": "white",
            "showbackground": true,
            "ticks": "",
            "zerolinecolor": "white"
           }
          },
          "shapedefaults": {
           "line": {
            "color": "#2a3f5f"
           }
          },
          "ternary": {
           "aaxis": {
            "gridcolor": "white",
            "linecolor": "white",
            "ticks": ""
           },
           "baxis": {
            "gridcolor": "white",
            "linecolor": "white",
            "ticks": ""
           },
           "bgcolor": "#E5ECF6",
           "caxis": {
            "gridcolor": "white",
            "linecolor": "white",
            "ticks": ""
           }
          },
          "title": {
           "x": 0.05
          },
          "xaxis": {
           "automargin": true,
           "gridcolor": "white",
           "linecolor": "white",
           "ticks": "",
           "title": {
            "standoff": 15
           },
           "zerolinecolor": "white",
           "zerolinewidth": 2
          },
          "yaxis": {
           "automargin": true,
           "gridcolor": "white",
           "linecolor": "white",
           "ticks": "",
           "title": {
            "standoff": 15
           },
           "zerolinecolor": "white",
           "zerolinewidth": 2
          }
         }
        }
       }
      }
     },
     "metadata": {}
    }
   ],
   "source": [
    "import datetime\n",
    "# from utils import *\n",
    "from plotly import graph_objects as go\n",
    "from IPython.display import clear_output\n",
    "from usdt_swap import *\n",
    "\n",
    "pr = 0\n",
    "max_rate = 0\n",
    "stime = datetime.datetime.now()\n",
    "\n",
    "plot_list = []\n",
    "\n",
    "#TODO 从服务器获取当前持仓信息\n",
    "contract = \"TRX-USDT\"\n",
    "while True:\n",
    "    result = get_current_swap_info(contract)\n",
    "    if result is not None:\n",
    "        break\n",
    "print(result)\n",
    "open_point=result.get('cost_open')\n",
    "leverage = result.get('lever_rate')\n",
    "direction = result.get('direction')\n",
    "volume = result.get(\"volume\")\n",
    "\n",
    "\n",
    "init_win_rates = 20\n",
    "force_close = -20\n",
    "change_rate = 10\n",
    "\n",
    "while True:\n",
    "    try:\n",
    "        current_point = get_price(contract, \"1min\", 1).iloc[-1][\"close\"]\n",
    "    except Exception as ex:\n",
    "        print(\"!!!!!!\", ex)\n",
    "        break\n",
    "        continue\n",
    "    # 计算当前订单涨跌幅\n",
    "    if direction in \"buy\":\n",
    "        rates = (current_point - open_point) / open_point * 100 * leverage\n",
    "    elif direction in \"sell\":\n",
    "        rates = (open_point - current_point) / open_point * 100 * leverage\n",
    "    else:\n",
    "        raise Exception(\"wha???????\")\n",
    "    if pr != rates:\n",
    "        clear_output(wait=True)\n",
    "        if max_rate < rates:\n",
    "            max_rate = rates\n",
    "        duration = datetime.datetime.now()-stime\n",
    "        print(f\"It is {duration} later\")\n",
    "        print(f\"current contract price {current_point}\")\n",
    "        print(\"current rate = {:.4f}%\".format(rates))\n",
    "        print(\"================================\")\n",
    "        print(\"The max rate: {:.4f}%\".format(max_rate))\n",
    "        print(f\"You {direction} {contract} with {open_point}\\nThe force close line: {force_close}\\nThe win rates: {init_win_rates}\")\n",
    "        plot_list.append(rates)\n",
    "    pr = rates\n",
    "    if rates < force_close:\n",
    "        if rates < 0:\n",
    "            print(\"I quite QAQ\")\n",
    "            fast_close(contract, volume, reverse_direction(direction))\n",
    "        else:\n",
    "            print(f\"I quite XD, with {rates}%\")\n",
    "            fast_close(contract, volume, reverse_direction(direction))\n",
    "        break\n",
    "    if rates > 2* init_win_rates:\n",
    "        print(f\"I quite XD, with {rates}%\")\n",
    "        # wallet = wallet * (100+rates)/100\n",
    "    elif rates > init_win_rates*0.9:\n",
    "        force_close = init_win_rates - change_rate\n",
    "        init_win_rates += change_rate\n",
    "\n",
    "# print(f\"{wallet} usdt left\")\n",
    "        \n",
    "fig = go.Figure(\n",
    "    go.Scatter(y=plot_list)\n",
    ")\n",
    "\n",
    "fig.show()"
   ]
  }
 ],
 "metadata": {
  "kernelspec": {
   "name": "python388jvsc74a57bd01b2b0f409ecbe55cbd77d76ab8b7a6044218da5db3e6504d0f400a2529d06cea",
   "display_name": "Python 3.8.8 64-bit ('coin': conda)"
  },
  "language_info": {
   "codemirror_mode": {
    "name": "ipython",
    "version": 3
   },
   "file_extension": ".py",
   "mimetype": "text/x-python",
   "name": "python",
   "nbconvert_exporter": "python",
   "pygments_lexer": "ipython3",
   "version": "3.8.8"
  }
 },
 "nbformat": 4,
 "nbformat_minor": 2
}